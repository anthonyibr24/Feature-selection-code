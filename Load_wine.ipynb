{
  "nbformat": 4,
  "nbformat_minor": 0,
  "metadata": {
    "colab": {
      "provenance": [],
      "authorship_tag": "ABX9TyNN3WjGlp05rc1kjFoemVld",
      "include_colab_link": true
    },
    "kernelspec": {
      "name": "python3",
      "display_name": "Python 3"
    },
    "language_info": {
      "name": "python"
    }
  },
  "cells": [
    {
      "cell_type": "markdown",
      "metadata": {
        "id": "view-in-github",
        "colab_type": "text"
      },
      "source": [
        "<a href=\"https://colab.research.google.com/github/anthonyibr24/Feature-selection-code/blob/Load_wine/Load_wine.ipynb\" target=\"_parent\"><img src=\"https://colab.research.google.com/assets/colab-badge.svg\" alt=\"Open In Colab\"/></a>"
      ]
    },
    {
      "cell_type": "code",
      "execution_count": null,
      "metadata": {
        "id": "dqm2ULzHOikm"
      },
      "outputs": [],
      "source": [
        "#import\n",
        "from sklearn.datasets import load_wine\n",
        "import pandas as pd\n",
        "import numpy as np"
      ]
    },
    {
      "cell_type": "code",
      "source": [
        "#load dataset\n",
        "data=load_wine()\n",
        "df=pd.DataFrame(data.data,columns=data.feature_names)\n",
        "df['target']=data.target\n",
        "df.head()\n",
        "\n",
        "#scale mean=0 std=1\n",
        "from sklearn.preprocessing import StandardScaler\n",
        "scaler=StandardScaler()\n",
        "df=df.drop('target',axis=1)\n",
        "df[data.feature_names]=scaler.fit_transform(df[data.feature_names])\n",
        "df.describe().round(3)\n",
        "\n",
        "df['target']=data.target\n",
        "df.describe().round(3)"
      ],
      "metadata": {
        "colab": {
          "base_uri": "https://localhost:8080/",
          "height": 300
        },
        "id": "qciotgz5YMUa",
        "outputId": "250d5b0b-b5bb-4099-cf3b-9921bf99719a"
      },
      "execution_count": null,
      "outputs": [
        {
          "output_type": "execute_result",
          "data": {
            "text/plain": [
              "       alcohol  malic_acid      ash  alcalinity_of_ash  magnesium  \\\n",
              "count  178.000     178.000  178.000            178.000    178.000   \n",
              "mean     0.000       0.000   -0.000             -0.000     -0.000   \n",
              "std      1.003       1.003    1.003              1.003      1.003   \n",
              "min     -2.434      -1.433   -3.679             -2.671     -2.088   \n",
              "25%     -0.788      -0.659   -0.572             -0.689     -0.824   \n",
              "50%      0.061      -0.423   -0.024              0.002     -0.122   \n",
              "75%      0.836       0.670    0.698              0.602      0.510   \n",
              "max      2.260       3.109    3.156              3.155      4.371   \n",
              "\n",
              "       total_phenols  flavanoids  nonflavanoid_phenols  proanthocyanins  \\\n",
              "count        178.000     178.000               178.000          178.000   \n",
              "mean          -0.000       0.000                -0.000           -0.000   \n",
              "std            1.003       1.003                 1.003            1.003   \n",
              "min           -2.107      -1.696                -1.868           -2.069   \n",
              "25%           -0.885      -0.828                -0.740           -0.597   \n",
              "50%            0.096       0.106                -0.176           -0.063   \n",
              "75%            0.809       0.849                 0.610            0.629   \n",
              "max            2.540       3.063                 2.402            3.485   \n",
              "\n",
              "       color_intensity      hue  od280/od315_of_diluted_wines  proline  \\\n",
              "count          178.000  178.000                       178.000  178.000   \n",
              "mean            -0.000    0.000                         0.000   -0.000   \n",
              "std              1.003    1.003                         1.003    1.003   \n",
              "min             -1.634   -2.095                        -1.895   -1.493   \n",
              "25%             -0.795   -0.768                        -0.952   -0.785   \n",
              "50%             -0.159    0.033                         0.238   -0.234   \n",
              "75%              0.494    0.713                         0.789    0.758   \n",
              "max              3.435    3.302                         1.961    2.971   \n",
              "\n",
              "        target  \n",
              "count  178.000  \n",
              "mean     0.938  \n",
              "std      0.775  \n",
              "min      0.000  \n",
              "25%      0.000  \n",
              "50%      1.000  \n",
              "75%      2.000  \n",
              "max      2.000  "
            ],
            "text/html": [
              "\n",
              "  <div id=\"df-38a77c39-a81a-4951-abdd-7248ea818cf3\" class=\"colab-df-container\">\n",
              "    <div>\n",
              "<style scoped>\n",
              "    .dataframe tbody tr th:only-of-type {\n",
              "        vertical-align: middle;\n",
              "    }\n",
              "\n",
              "    .dataframe tbody tr th {\n",
              "        vertical-align: top;\n",
              "    }\n",
              "\n",
              "    .dataframe thead th {\n",
              "        text-align: right;\n",
              "    }\n",
              "</style>\n",
              "<table border=\"1\" class=\"dataframe\">\n",
              "  <thead>\n",
              "    <tr style=\"text-align: right;\">\n",
              "      <th></th>\n",
              "      <th>alcohol</th>\n",
              "      <th>malic_acid</th>\n",
              "      <th>ash</th>\n",
              "      <th>alcalinity_of_ash</th>\n",
              "      <th>magnesium</th>\n",
              "      <th>total_phenols</th>\n",
              "      <th>flavanoids</th>\n",
              "      <th>nonflavanoid_phenols</th>\n",
              "      <th>proanthocyanins</th>\n",
              "      <th>color_intensity</th>\n",
              "      <th>hue</th>\n",
              "      <th>od280/od315_of_diluted_wines</th>\n",
              "      <th>proline</th>\n",
              "      <th>target</th>\n",
              "    </tr>\n",
              "  </thead>\n",
              "  <tbody>\n",
              "    <tr>\n",
              "      <th>count</th>\n",
              "      <td>178.000</td>\n",
              "      <td>178.000</td>\n",
              "      <td>178.000</td>\n",
              "      <td>178.000</td>\n",
              "      <td>178.000</td>\n",
              "      <td>178.000</td>\n",
              "      <td>178.000</td>\n",
              "      <td>178.000</td>\n",
              "      <td>178.000</td>\n",
              "      <td>178.000</td>\n",
              "      <td>178.000</td>\n",
              "      <td>178.000</td>\n",
              "      <td>178.000</td>\n",
              "      <td>178.000</td>\n",
              "    </tr>\n",
              "    <tr>\n",
              "      <th>mean</th>\n",
              "      <td>0.000</td>\n",
              "      <td>0.000</td>\n",
              "      <td>-0.000</td>\n",
              "      <td>-0.000</td>\n",
              "      <td>-0.000</td>\n",
              "      <td>-0.000</td>\n",
              "      <td>0.000</td>\n",
              "      <td>-0.000</td>\n",
              "      <td>-0.000</td>\n",
              "      <td>-0.000</td>\n",
              "      <td>0.000</td>\n",
              "      <td>0.000</td>\n",
              "      <td>-0.000</td>\n",
              "      <td>0.938</td>\n",
              "    </tr>\n",
              "    <tr>\n",
              "      <th>std</th>\n",
              "      <td>1.003</td>\n",
              "      <td>1.003</td>\n",
              "      <td>1.003</td>\n",
              "      <td>1.003</td>\n",
              "      <td>1.003</td>\n",
              "      <td>1.003</td>\n",
              "      <td>1.003</td>\n",
              "      <td>1.003</td>\n",
              "      <td>1.003</td>\n",
              "      <td>1.003</td>\n",
              "      <td>1.003</td>\n",
              "      <td>1.003</td>\n",
              "      <td>1.003</td>\n",
              "      <td>0.775</td>\n",
              "    </tr>\n",
              "    <tr>\n",
              "      <th>min</th>\n",
              "      <td>-2.434</td>\n",
              "      <td>-1.433</td>\n",
              "      <td>-3.679</td>\n",
              "      <td>-2.671</td>\n",
              "      <td>-2.088</td>\n",
              "      <td>-2.107</td>\n",
              "      <td>-1.696</td>\n",
              "      <td>-1.868</td>\n",
              "      <td>-2.069</td>\n",
              "      <td>-1.634</td>\n",
              "      <td>-2.095</td>\n",
              "      <td>-1.895</td>\n",
              "      <td>-1.493</td>\n",
              "      <td>0.000</td>\n",
              "    </tr>\n",
              "    <tr>\n",
              "      <th>25%</th>\n",
              "      <td>-0.788</td>\n",
              "      <td>-0.659</td>\n",
              "      <td>-0.572</td>\n",
              "      <td>-0.689</td>\n",
              "      <td>-0.824</td>\n",
              "      <td>-0.885</td>\n",
              "      <td>-0.828</td>\n",
              "      <td>-0.740</td>\n",
              "      <td>-0.597</td>\n",
              "      <td>-0.795</td>\n",
              "      <td>-0.768</td>\n",
              "      <td>-0.952</td>\n",
              "      <td>-0.785</td>\n",
              "      <td>0.000</td>\n",
              "    </tr>\n",
              "    <tr>\n",
              "      <th>50%</th>\n",
              "      <td>0.061</td>\n",
              "      <td>-0.423</td>\n",
              "      <td>-0.024</td>\n",
              "      <td>0.002</td>\n",
              "      <td>-0.122</td>\n",
              "      <td>0.096</td>\n",
              "      <td>0.106</td>\n",
              "      <td>-0.176</td>\n",
              "      <td>-0.063</td>\n",
              "      <td>-0.159</td>\n",
              "      <td>0.033</td>\n",
              "      <td>0.238</td>\n",
              "      <td>-0.234</td>\n",
              "      <td>1.000</td>\n",
              "    </tr>\n",
              "    <tr>\n",
              "      <th>75%</th>\n",
              "      <td>0.836</td>\n",
              "      <td>0.670</td>\n",
              "      <td>0.698</td>\n",
              "      <td>0.602</td>\n",
              "      <td>0.510</td>\n",
              "      <td>0.809</td>\n",
              "      <td>0.849</td>\n",
              "      <td>0.610</td>\n",
              "      <td>0.629</td>\n",
              "      <td>0.494</td>\n",
              "      <td>0.713</td>\n",
              "      <td>0.789</td>\n",
              "      <td>0.758</td>\n",
              "      <td>2.000</td>\n",
              "    </tr>\n",
              "    <tr>\n",
              "      <th>max</th>\n",
              "      <td>2.260</td>\n",
              "      <td>3.109</td>\n",
              "      <td>3.156</td>\n",
              "      <td>3.155</td>\n",
              "      <td>4.371</td>\n",
              "      <td>2.540</td>\n",
              "      <td>3.063</td>\n",
              "      <td>2.402</td>\n",
              "      <td>3.485</td>\n",
              "      <td>3.435</td>\n",
              "      <td>3.302</td>\n",
              "      <td>1.961</td>\n",
              "      <td>2.971</td>\n",
              "      <td>2.000</td>\n",
              "    </tr>\n",
              "  </tbody>\n",
              "</table>\n",
              "</div>\n",
              "    <div class=\"colab-df-buttons\">\n",
              "\n",
              "  <div class=\"colab-df-container\">\n",
              "    <button class=\"colab-df-convert\" onclick=\"convertToInteractive('df-38a77c39-a81a-4951-abdd-7248ea818cf3')\"\n",
              "            title=\"Convert this dataframe to an interactive table.\"\n",
              "            style=\"display:none;\">\n",
              "\n",
              "  <svg xmlns=\"http://www.w3.org/2000/svg\" height=\"24px\" viewBox=\"0 -960 960 960\">\n",
              "    <path d=\"M120-120v-720h720v720H120Zm60-500h600v-160H180v160Zm220 220h160v-160H400v160Zm0 220h160v-160H400v160ZM180-400h160v-160H180v160Zm440 0h160v-160H620v160ZM180-180h160v-160H180v160Zm440 0h160v-160H620v160Z\"/>\n",
              "  </svg>\n",
              "    </button>\n",
              "\n",
              "  <style>\n",
              "    .colab-df-container {\n",
              "      display:flex;\n",
              "      gap: 12px;\n",
              "    }\n",
              "\n",
              "    .colab-df-convert {\n",
              "      background-color: #E8F0FE;\n",
              "      border: none;\n",
              "      border-radius: 50%;\n",
              "      cursor: pointer;\n",
              "      display: none;\n",
              "      fill: #1967D2;\n",
              "      height: 32px;\n",
              "      padding: 0 0 0 0;\n",
              "      width: 32px;\n",
              "    }\n",
              "\n",
              "    .colab-df-convert:hover {\n",
              "      background-color: #E2EBFA;\n",
              "      box-shadow: 0px 1px 2px rgba(60, 64, 67, 0.3), 0px 1px 3px 1px rgba(60, 64, 67, 0.15);\n",
              "      fill: #174EA6;\n",
              "    }\n",
              "\n",
              "    .colab-df-buttons div {\n",
              "      margin-bottom: 4px;\n",
              "    }\n",
              "\n",
              "    [theme=dark] .colab-df-convert {\n",
              "      background-color: #3B4455;\n",
              "      fill: #D2E3FC;\n",
              "    }\n",
              "\n",
              "    [theme=dark] .colab-df-convert:hover {\n",
              "      background-color: #434B5C;\n",
              "      box-shadow: 0px 1px 3px 1px rgba(0, 0, 0, 0.15);\n",
              "      filter: drop-shadow(0px 1px 2px rgba(0, 0, 0, 0.3));\n",
              "      fill: #FFFFFF;\n",
              "    }\n",
              "  </style>\n",
              "\n",
              "    <script>\n",
              "      const buttonEl =\n",
              "        document.querySelector('#df-38a77c39-a81a-4951-abdd-7248ea818cf3 button.colab-df-convert');\n",
              "      buttonEl.style.display =\n",
              "        google.colab.kernel.accessAllowed ? 'block' : 'none';\n",
              "\n",
              "      async function convertToInteractive(key) {\n",
              "        const element = document.querySelector('#df-38a77c39-a81a-4951-abdd-7248ea818cf3');\n",
              "        const dataTable =\n",
              "          await google.colab.kernel.invokeFunction('convertToInteractive',\n",
              "                                                    [key], {});\n",
              "        if (!dataTable) return;\n",
              "\n",
              "        const docLinkHtml = 'Like what you see? Visit the ' +\n",
              "          '<a target=\"_blank\" href=https://colab.research.google.com/notebooks/data_table.ipynb>data table notebook</a>'\n",
              "          + ' to learn more about interactive tables.';\n",
              "        element.innerHTML = '';\n",
              "        dataTable['output_type'] = 'display_data';\n",
              "        await google.colab.output.renderOutput(dataTable, element);\n",
              "        const docLink = document.createElement('div');\n",
              "        docLink.innerHTML = docLinkHtml;\n",
              "        element.appendChild(docLink);\n",
              "      }\n",
              "    </script>\n",
              "  </div>\n",
              "\n",
              "\n",
              "    <div id=\"df-0c17592b-6114-4916-829f-baebfc40c0c3\">\n",
              "      <button class=\"colab-df-quickchart\" onclick=\"quickchart('df-0c17592b-6114-4916-829f-baebfc40c0c3')\"\n",
              "                title=\"Suggest charts\"\n",
              "                style=\"display:none;\">\n",
              "\n",
              "<svg xmlns=\"http://www.w3.org/2000/svg\" height=\"24px\"viewBox=\"0 0 24 24\"\n",
              "     width=\"24px\">\n",
              "    <g>\n",
              "        <path d=\"M19 3H5c-1.1 0-2 .9-2 2v14c0 1.1.9 2 2 2h14c1.1 0 2-.9 2-2V5c0-1.1-.9-2-2-2zM9 17H7v-7h2v7zm4 0h-2V7h2v10zm4 0h-2v-4h2v4z\"/>\n",
              "    </g>\n",
              "</svg>\n",
              "      </button>\n",
              "\n",
              "<style>\n",
              "  .colab-df-quickchart {\n",
              "      --bg-color: #E8F0FE;\n",
              "      --fill-color: #1967D2;\n",
              "      --hover-bg-color: #E2EBFA;\n",
              "      --hover-fill-color: #174EA6;\n",
              "      --disabled-fill-color: #AAA;\n",
              "      --disabled-bg-color: #DDD;\n",
              "  }\n",
              "\n",
              "  [theme=dark] .colab-df-quickchart {\n",
              "      --bg-color: #3B4455;\n",
              "      --fill-color: #D2E3FC;\n",
              "      --hover-bg-color: #434B5C;\n",
              "      --hover-fill-color: #FFFFFF;\n",
              "      --disabled-bg-color: #3B4455;\n",
              "      --disabled-fill-color: #666;\n",
              "  }\n",
              "\n",
              "  .colab-df-quickchart {\n",
              "    background-color: var(--bg-color);\n",
              "    border: none;\n",
              "    border-radius: 50%;\n",
              "    cursor: pointer;\n",
              "    display: none;\n",
              "    fill: var(--fill-color);\n",
              "    height: 32px;\n",
              "    padding: 0;\n",
              "    width: 32px;\n",
              "  }\n",
              "\n",
              "  .colab-df-quickchart:hover {\n",
              "    background-color: var(--hover-bg-color);\n",
              "    box-shadow: 0 1px 2px rgba(60, 64, 67, 0.3), 0 1px 3px 1px rgba(60, 64, 67, 0.15);\n",
              "    fill: var(--button-hover-fill-color);\n",
              "  }\n",
              "\n",
              "  .colab-df-quickchart-complete:disabled,\n",
              "  .colab-df-quickchart-complete:disabled:hover {\n",
              "    background-color: var(--disabled-bg-color);\n",
              "    fill: var(--disabled-fill-color);\n",
              "    box-shadow: none;\n",
              "  }\n",
              "\n",
              "  .colab-df-spinner {\n",
              "    border: 2px solid var(--fill-color);\n",
              "    border-color: transparent;\n",
              "    border-bottom-color: var(--fill-color);\n",
              "    animation:\n",
              "      spin 1s steps(1) infinite;\n",
              "  }\n",
              "\n",
              "  @keyframes spin {\n",
              "    0% {\n",
              "      border-color: transparent;\n",
              "      border-bottom-color: var(--fill-color);\n",
              "      border-left-color: var(--fill-color);\n",
              "    }\n",
              "    20% {\n",
              "      border-color: transparent;\n",
              "      border-left-color: var(--fill-color);\n",
              "      border-top-color: var(--fill-color);\n",
              "    }\n",
              "    30% {\n",
              "      border-color: transparent;\n",
              "      border-left-color: var(--fill-color);\n",
              "      border-top-color: var(--fill-color);\n",
              "      border-right-color: var(--fill-color);\n",
              "    }\n",
              "    40% {\n",
              "      border-color: transparent;\n",
              "      border-right-color: var(--fill-color);\n",
              "      border-top-color: var(--fill-color);\n",
              "    }\n",
              "    60% {\n",
              "      border-color: transparent;\n",
              "      border-right-color: var(--fill-color);\n",
              "    }\n",
              "    80% {\n",
              "      border-color: transparent;\n",
              "      border-right-color: var(--fill-color);\n",
              "      border-bottom-color: var(--fill-color);\n",
              "    }\n",
              "    90% {\n",
              "      border-color: transparent;\n",
              "      border-bottom-color: var(--fill-color);\n",
              "    }\n",
              "  }\n",
              "</style>\n",
              "\n",
              "      <script>\n",
              "        async function quickchart(key) {\n",
              "          const quickchartButtonEl =\n",
              "            document.querySelector('#' + key + ' button');\n",
              "          quickchartButtonEl.disabled = true;  // To prevent multiple clicks.\n",
              "          quickchartButtonEl.classList.add('colab-df-spinner');\n",
              "          try {\n",
              "            const charts = await google.colab.kernel.invokeFunction(\n",
              "                'suggestCharts', [key], {});\n",
              "          } catch (error) {\n",
              "            console.error('Error during call to suggestCharts:', error);\n",
              "          }\n",
              "          quickchartButtonEl.classList.remove('colab-df-spinner');\n",
              "          quickchartButtonEl.classList.add('colab-df-quickchart-complete');\n",
              "        }\n",
              "        (() => {\n",
              "          let quickchartButtonEl =\n",
              "            document.querySelector('#df-0c17592b-6114-4916-829f-baebfc40c0c3 button');\n",
              "          quickchartButtonEl.style.display =\n",
              "            google.colab.kernel.accessAllowed ? 'block' : 'none';\n",
              "        })();\n",
              "      </script>\n",
              "    </div>\n",
              "\n",
              "    </div>\n",
              "  </div>\n"
            ],
            "application/vnd.google.colaboratory.intrinsic+json": {
              "type": "dataframe",
              "summary": "{\n  \"name\": \"df\",\n  \"rows\": 8,\n  \"fields\": [\n    {\n      \"column\": \"alcohol\",\n      \"properties\": {\n        \"dtype\": \"number\",\n        \"std\": 62.90015960177344,\n        \"min\": -2.434,\n        \"max\": 178.0,\n        \"num_unique_values\": 8,\n        \"samples\": [\n          0.0,\n          0.061,\n          178.0\n        ],\n        \"semantic_type\": \"\",\n        \"description\": \"\"\n      }\n    },\n    {\n      \"column\": \"malic_acid\",\n      \"properties\": {\n        \"dtype\": \"number\",\n        \"std\": 62.83284352478975,\n        \"min\": -1.433,\n        \"max\": 178.0,\n        \"num_unique_values\": 8,\n        \"samples\": [\n          0.0,\n          -0.423,\n          178.0\n        ],\n        \"semantic_type\": \"\",\n        \"description\": \"\"\n      }\n    },\n    {\n      \"column\": \"ash\",\n      \"properties\": {\n        \"dtype\": \"number\",\n        \"std\": 62.93179415560038,\n        \"min\": -3.679,\n        \"max\": 178.0,\n        \"num_unique_values\": 8,\n        \"samples\": [\n          -0.0,\n          -0.024,\n          178.0\n        ],\n        \"semantic_type\": \"\",\n        \"description\": \"\"\n      }\n    },\n    {\n      \"column\": \"alcalinity_of_ash\",\n      \"properties\": {\n        \"dtype\": \"number\",\n        \"std\": 62.882880595028176,\n        \"min\": -2.671,\n        \"max\": 178.0,\n        \"num_unique_values\": 8,\n        \"samples\": [\n          -0.0,\n          0.002,\n          178.0\n        ],\n        \"semantic_type\": \"\",\n        \"description\": \"\"\n      }\n    },\n    {\n      \"column\": \"magnesium\",\n      \"properties\": {\n        \"dtype\": \"number\",\n        \"std\": 62.81615470277417,\n        \"min\": -2.088,\n        \"max\": 178.0,\n        \"num_unique_values\": 8,\n        \"samples\": [\n          -0.0,\n          -0.122,\n          178.0\n        ],\n        \"semantic_type\": \"\",\n        \"description\": \"\"\n      }\n    },\n    {\n      \"column\": \"total_phenols\",\n      \"properties\": {\n        \"dtype\": \"number\",\n        \"std\": 62.87378171270711,\n        \"min\": -2.107,\n        \"max\": 178.0,\n        \"num_unique_values\": 8,\n        \"samples\": [\n          -0.0,\n          0.096,\n          178.0\n        ],\n        \"semantic_type\": \"\",\n        \"description\": \"\"\n      }\n    },\n    {\n      \"column\": \"flavanoids\",\n      \"properties\": {\n        \"dtype\": \"number\",\n        \"std\": 62.82206861886651,\n        \"min\": -1.696,\n        \"max\": 178.0,\n        \"num_unique_values\": 8,\n        \"samples\": [\n          0.0,\n          0.106,\n          178.0\n        ],\n        \"semantic_type\": \"\",\n        \"description\": \"\"\n      }\n    },\n    {\n      \"column\": \"nonflavanoid_phenols\",\n      \"properties\": {\n        \"dtype\": \"number\",\n        \"std\": 62.88282390159721,\n        \"min\": -1.868,\n        \"max\": 178.0,\n        \"num_unique_values\": 8,\n        \"samples\": [\n          -0.0,\n          -0.176,\n          178.0\n        ],\n        \"semantic_type\": \"\",\n        \"description\": \"\"\n      }\n    },\n    {\n      \"column\": \"proanthocyanins\",\n      \"properties\": {\n        \"dtype\": \"number\",\n        \"std\": 62.8316448887706,\n        \"min\": -2.069,\n        \"max\": 178.0,\n        \"num_unique_values\": 8,\n        \"samples\": [\n          -0.0,\n          -0.063,\n          178.0\n        ],\n        \"semantic_type\": \"\",\n        \"description\": \"\"\n      }\n    },\n    {\n      \"column\": \"color_intensity\",\n      \"properties\": {\n        \"dtype\": \"number\",\n        \"std\": 62.831841040760764,\n        \"min\": -1.634,\n        \"max\": 178.0,\n        \"num_unique_values\": 8,\n        \"samples\": [\n          -0.0,\n          -0.159,\n          178.0\n        ],\n        \"semantic_type\": \"\",\n        \"description\": \"\"\n      }\n    },\n    {\n      \"column\": \"hue\",\n      \"properties\": {\n        \"dtype\": \"number\",\n        \"std\": 62.840993333514845,\n        \"min\": -2.095,\n        \"max\": 178.0,\n        \"num_unique_values\": 8,\n        \"samples\": [\n          0.0,\n          0.033,\n          178.0\n        ],\n        \"semantic_type\": \"\",\n        \"description\": \"\"\n      }\n    },\n    {\n      \"column\": \"od280/od315_of_diluted_wines\",\n      \"properties\": {\n        \"dtype\": \"number\",\n        \"std\": 62.885901704140785,\n        \"min\": -1.895,\n        \"max\": 178.0,\n        \"num_unique_values\": 8,\n        \"samples\": [\n          0.0,\n          0.238,\n          178.0\n        ],\n        \"semantic_type\": \"\",\n        \"description\": \"\"\n      }\n    },\n    {\n      \"column\": \"proline\",\n      \"properties\": {\n        \"dtype\": \"number\",\n        \"std\": 62.83470537165633,\n        \"min\": -1.493,\n        \"max\": 178.0,\n        \"num_unique_values\": 8,\n        \"samples\": [\n          -0.0,\n          -0.234,\n          178.0\n        ],\n        \"semantic_type\": \"\",\n        \"description\": \"\"\n      }\n    },\n    {\n      \"column\": \"target\",\n      \"properties\": {\n        \"dtype\": \"number\",\n        \"std\": 62.598058987337154,\n        \"min\": 0.0,\n        \"max\": 178.0,\n        \"num_unique_values\": 6,\n        \"samples\": [\n          178.0,\n          0.938,\n          2.0\n        ],\n        \"semantic_type\": \"\",\n        \"description\": \"\"\n      }\n    }\n  ]\n}"
            }
          },
          "metadata": {},
          "execution_count": 3
        }
      ]
    },
    {
      "cell_type": "code",
      "source": [
        "df.shape"
      ],
      "metadata": {
        "colab": {
          "base_uri": "https://localhost:8080/"
        },
        "id": "UDEVvlVDKV-R",
        "outputId": "295e9aa0-9a0d-4ac9-fa2d-e3007af19370"
      },
      "execution_count": null,
      "outputs": [
        {
          "output_type": "execute_result",
          "data": {
            "text/plain": [
              "(178, 14)"
            ]
          },
          "metadata": {},
          "execution_count": 4
        }
      ]
    },
    {
      "cell_type": "code",
      "source": [
        "print(df['target'].value_counts())"
      ],
      "metadata": {
        "colab": {
          "base_uri": "https://localhost:8080/"
        },
        "id": "nY0bhxt-KX-s",
        "outputId": "085489d3-8367-4765-f7b4-6273668e295d"
      },
      "execution_count": null,
      "outputs": [
        {
          "output_type": "stream",
          "name": "stdout",
          "text": [
            "target\n",
            "1    71\n",
            "0    59\n",
            "2    48\n",
            "Name: count, dtype: int64\n"
          ]
        }
      ]
    },
    {
      "cell_type": "markdown",
      "source": [
        "# Full features"
      ],
      "metadata": {
        "id": "CVHacUKYgQM4"
      }
    },
    {
      "cell_type": "code",
      "source": [
        "#Cross validation\n",
        "from sklearn.model_selection import cross_validate\n",
        "from sklearn.linear_model import LogisticRegression\n",
        "\n",
        "lr=LogisticRegression()\n",
        "\n",
        "cv_results = cross_validate(\n",
        "    lr,\n",
        "    df.drop('target', axis=1),\n",
        "    df['target'],\n",
        "    cv=4,\n",
        "    scoring=['accuracy', 'precision_macro', 'recall_macro', 'f1_macro'],\n",
        "    return_train_score=False\n",
        ")\n",
        "\n",
        "from sklearn.model_selection import cross_validate\n",
        "from sklearn.linear_model import LogisticRegression\n",
        "import numpy as np  # Needed for mean and std\n",
        "\n",
        "lr = LogisticRegression()\n",
        "\n",
        "cv_results = cross_validate(\n",
        "    lr,\n",
        "    df.drop('target', axis=1),\n",
        "    df['target'],\n",
        "    cv=4,\n",
        "    scoring=['accuracy', 'precision_macro', 'recall_macro', 'f1_macro'],\n",
        "    return_train_score=False\n",
        ")\n",
        "\n",
        "print(\"\\nAverage Metrics Across 4 Folds:\")\n",
        "print(f\"Accuracy:  {np.mean(cv_results['test_accuracy']):.4f} ± {np.std(cv_results['test_accuracy']):.4f}\")\n",
        "print(f\"Precision: {np.mean(cv_results['test_precision_macro']):.4f} ± {np.std(cv_results['test_precision_macro']):.4f}\")\n",
        "print(f\"Recall:    {np.mean(cv_results['test_recall_macro']):.4f} ± {np.std(cv_results['test_recall_macro']):.4f}\")\n",
        "print(f\"F1 Score:  {np.mean(cv_results['test_f1_macro']):.4f} ± {np.std(cv_results['test_f1_macro']):.4f}\")\n"
      ],
      "metadata": {
        "colab": {
          "base_uri": "https://localhost:8080/"
        },
        "id": "raITrqC3cChs",
        "outputId": "f54d8a5d-1145-4150-9036-a299008a9cec"
      },
      "execution_count": null,
      "outputs": [
        {
          "output_type": "stream",
          "name": "stdout",
          "text": [
            "\n",
            "Average Metrics Across 4 Folds:\n",
            "Accuracy:  0.9777 ± 0.0157\n",
            "Precision: 0.9773 ± 0.0166\n",
            "Recall:    0.9806 ± 0.0132\n",
            "F1 Score:  0.9781 ± 0.0155\n"
          ]
        }
      ]
    },
    {
      "cell_type": "markdown",
      "source": [
        "# Using 13 features\n",
        "\n",
        "\n",
        "---\n",
        "\n",
        "\n",
        "Accuracy:  0.9777\n",
        "\n",
        "\n",
        "Precision: 0.9773\n",
        "\n",
        "\n",
        "Recall:    0.9806\n",
        "\n",
        "\n",
        "F1 Score:  0.9781\n",
        "\n",
        "\n",
        "---\n",
        "\n"
      ],
      "metadata": {
        "id": "3aIeoVkplSnA"
      }
    },
    {
      "cell_type": "markdown",
      "source": [
        "# Mutual Gain"
      ],
      "metadata": {
        "id": "MLUOwUKpq0P3"
      }
    },
    {
      "cell_type": "code",
      "source": [
        "#Mutual gain\n",
        "from sklearn.datasets import load_wine\n",
        "from sklearn.model_selection import cross_validate\n",
        "from sklearn.preprocessing import StandardScaler\n",
        "from sklearn.feature_selection import SelectKBest, mutual_info_classif\n",
        "from sklearn.linear_model import LogisticRegression\n",
        "from sklearn.pipeline import Pipeline\n",
        "\n",
        "#load dataset\n",
        "data=load_wine()\n",
        "df=pd.DataFrame(data.data,columns=data.feature_names)\n",
        "df['target']=data.target\n",
        "df.head()\n",
        "\n",
        "X=df.drop('target',axis=1)\n",
        "y=df['target']\n",
        "\n",
        "#Pipeline\n",
        "pipeline = Pipeline([\n",
        "    ('scaler', StandardScaler()),\n",
        "    ('selector', SelectKBest(mutual_info_classif, k=6)),\n",
        "    ('classifier', LogisticRegression())\n",
        "])\n",
        "\n",
        "pipeline.verbose=True\n",
        "\n",
        "#Cross-validate and calculate all metrics\n",
        "scores = cross_validate(\n",
        "    pipeline,\n",
        "    X, y,\n",
        "    cv=4,\n",
        "    scoring=['accuracy', 'precision_macro', 'recall_macro', 'f1_macro']\n",
        ")\n",
        "\n",
        "print(\"\\nAverage Scores Across 4 Folds:\")\n",
        "for metric in ['accuracy', 'precision_macro', 'recall_macro', 'f1_macro']:\n",
        "    mean_score = scores[f'test_{metric}'].mean()\n",
        "    std_score = scores[f'test_{metric}'].std()\n",
        "    print(f\"{metric.capitalize()}: {mean_score:.4f} ± {std_score:.4f}\")"
      ],
      "metadata": {
        "colab": {
          "base_uri": "https://localhost:8080/"
        },
        "id": "e2XRC8bNmQ0C",
        "outputId": "4e7118b0-9f3d-4c06-fa41-bd4093684054"
      },
      "execution_count": null,
      "outputs": [
        {
          "output_type": "stream",
          "name": "stdout",
          "text": [
            "[Pipeline] ............ (step 1 of 3) Processing scaler, total=   0.0s\n",
            "[Pipeline] .......... (step 2 of 3) Processing selector, total=   0.1s\n",
            "[Pipeline] ........ (step 3 of 3) Processing classifier, total=   0.1s\n",
            "[Pipeline] ............ (step 1 of 3) Processing scaler, total=   0.0s\n",
            "[Pipeline] .......... (step 2 of 3) Processing selector, total=   0.1s\n",
            "[Pipeline] ........ (step 3 of 3) Processing classifier, total=   0.0s\n",
            "[Pipeline] ............ (step 1 of 3) Processing scaler, total=   0.0s\n",
            "[Pipeline] .......... (step 2 of 3) Processing selector, total=   0.1s\n",
            "[Pipeline] ........ (step 3 of 3) Processing classifier, total=   0.0s\n",
            "[Pipeline] ............ (step 1 of 3) Processing scaler, total=   0.0s\n",
            "[Pipeline] .......... (step 2 of 3) Processing selector, total=   0.1s\n",
            "[Pipeline] ........ (step 3 of 3) Processing classifier, total=   0.0s\n",
            "\n",
            "Average Scores Across 4 Folds:\n",
            "Accuracy: 0.9778 ± 0.0222\n",
            "Precision_macro: 0.9819 ± 0.0183\n",
            "Recall_macro: 0.9796 ± 0.0205\n",
            "F1_macro: 0.9796 ± 0.0205\n"
          ]
        }
      ]
    },
    {
      "cell_type": "code",
      "source": [
        "#ANOVA\n",
        "from sklearn.datasets import load_wine\n",
        "from sklearn.model_selection import cross_validate\n",
        "from sklearn.preprocessing import StandardScaler\n",
        "from sklearn.feature_selection import SelectKBest, f_classif\n",
        "from sklearn.linear_model import LogisticRegression\n",
        "from sklearn.pipeline import Pipeline\n",
        "\n",
        "\n",
        "#load dataset\n",
        "data=load_wine()\n",
        "df=pd.DataFrame(data.data,columns=data.feature_names)\n",
        "df['target']=data.target\n",
        "df.head()\n",
        "\n",
        "X=df.drop('target',axis=1)\n",
        "y=df['target']\n",
        "\n",
        "#Pipeline\n",
        "pipeline = Pipeline([\n",
        "    ('scaler', StandardScaler()),\n",
        "    ('selector', SelectKBest(score_func=f_classif, k=6)),\n",
        "    ('classifier', LogisticRegression())\n",
        "])\n",
        "\n",
        "pipeline.verbose=True\n",
        "\n",
        "#Cross-validate and calculate all metrics\n",
        "scores = cross_validate(\n",
        "    pipeline,\n",
        "    X, y,\n",
        "    cv=4,\n",
        "    scoring=['accuracy', 'precision_macro', 'recall_macro', 'f1_macro']\n",
        ")\n",
        "\n",
        "print(\"\\nAverage Scores Across 4 Folds:\")\n",
        "for metric in ['accuracy', 'precision_macro', 'recall_macro', 'f1_macro']:\n",
        "    mean_score = scores[f'test_{metric}'].mean()\n",
        "    std_score = scores[f'test_{metric}'].std()\n",
        "    print(f\"{metric.capitalize()}: {mean_score:.4f} ± {std_score:.4f}\")"
      ],
      "metadata": {
        "colab": {
          "base_uri": "https://localhost:8080/"
        },
        "id": "R9Ga8INGttiS",
        "outputId": "d6d8e8da-507b-4492-9925-030c7c030f16"
      },
      "execution_count": null,
      "outputs": [
        {
          "output_type": "stream",
          "name": "stdout",
          "text": [
            "[Pipeline] ............ (step 1 of 3) Processing scaler, total=   0.0s\n",
            "[Pipeline] .......... (step 2 of 3) Processing selector, total=   0.0s\n",
            "[Pipeline] ........ (step 3 of 3) Processing classifier, total=   0.2s\n",
            "[Pipeline] ............ (step 1 of 3) Processing scaler, total=   0.0s\n",
            "[Pipeline] .......... (step 2 of 3) Processing selector, total=   0.0s\n",
            "[Pipeline] ........ (step 3 of 3) Processing classifier, total=   0.2s\n",
            "[Pipeline] ............ (step 1 of 3) Processing scaler, total=   0.0s\n",
            "[Pipeline] .......... (step 2 of 3) Processing selector, total=   0.0s\n",
            "[Pipeline] ........ (step 3 of 3) Processing classifier, total=   0.0s\n",
            "[Pipeline] ............ (step 1 of 3) Processing scaler, total=   0.0s\n",
            "[Pipeline] .......... (step 2 of 3) Processing selector, total=   0.0s\n",
            "[Pipeline] ........ (step 3 of 3) Processing classifier, total=   0.0s\n",
            "\n",
            "Average Scores Across 4 Folds:\n",
            "Accuracy: 0.9721 ± 0.0184\n",
            "Precision_macro: 0.9772 ± 0.0152\n",
            "Recall_macro: 0.9741 ± 0.0170\n",
            "F1_macro: 0.9743 ± 0.0169\n"
          ]
        }
      ]
    },
    {
      "cell_type": "markdown",
      "source": [
        "# Wrapper Methods"
      ],
      "metadata": {
        "id": "0d-qd7noBKW2"
      }
    },
    {
      "cell_type": "markdown",
      "source": [
        "# Forward"
      ],
      "metadata": {
        "id": "Epp4Psg4BkUT"
      }
    },
    {
      "cell_type": "code",
      "source": [
        "#FORWARD\n",
        "from sklearn.datasets import load_wine\n",
        "from sklearn.model_selection import cross_validate\n",
        "from sklearn.preprocessing import StandardScaler\n",
        "from sklearn.linear_model import LogisticRegression\n",
        "from sklearn.pipeline import Pipeline\n",
        "from sklearn.feature_selection import SequentialFeatureSelector\n",
        "from sklearn.neighbors import KNeighborsClassifier\n",
        "\n",
        "#load dataset\n",
        "data=load_wine()\n",
        "df=pd.DataFrame(data.data,columns=data.feature_names)\n",
        "df['target']=data.target\n",
        "df.head()\n",
        "\n",
        "X=df.drop('target',axis=1)\n",
        "y=df['target']\n",
        "\n",
        "knn=KNeighborsClassifier(5)\n",
        "\n"
      ],
      "metadata": {
        "id": "eUI0dbhABJH9"
      },
      "execution_count": null,
      "outputs": []
    },
    {
      "cell_type": "code",
      "source": [
        "#Pipeline\n",
        "pipeline = Pipeline([\n",
        "    ('scaler', StandardScaler()),\n",
        "    ('selector', SequentialFeatureSelector(knn, n_features_to_select=6, direction='forward', scoring='accuracy')),\n",
        "    ('classifier', LogisticRegression())\n",
        "])\n",
        "\n",
        "pipeline.verbose=True\n",
        "\n",
        "#Cross-validate and calculate all metrics\n",
        "scores = cross_validate(\n",
        "    pipeline,\n",
        "    X, y,\n",
        "    cv=4,\n",
        "    scoring=['accuracy', 'precision_macro', 'recall_macro', 'f1_macro']\n",
        ")\n",
        "\n",
        "print(\"\\nAverage Scores Across 4 Folds:\")\n",
        "for metric in ['accuracy', 'precision_macro', 'recall_macro', 'f1_macro']:\n",
        "    mean_score = scores[f'test_{metric}'].mean()\n",
        "    std_score = scores[f'test_{metric}'].std()\n",
        "    print(f\"{metric.capitalize()}: {mean_score:.4f} ± {std_score:.4f}\")\n",
        "\n"
      ],
      "metadata": {
        "colab": {
          "base_uri": "https://localhost:8080/"
        },
        "id": "T9ph3zEYDiZ8",
        "outputId": "a56c15bb-9f80-49b5-9c13-9f4ecddd0792"
      },
      "execution_count": null,
      "outputs": [
        {
          "output_type": "stream",
          "name": "stdout",
          "text": [
            "[Pipeline] ............ (step 1 of 3) Processing scaler, total=   0.0s\n",
            "[Pipeline] .......... (step 2 of 3) Processing selector, total=   2.2s\n",
            "[Pipeline] ........ (step 3 of 3) Processing classifier, total=   0.1s\n",
            "[Pipeline] ............ (step 1 of 3) Processing scaler, total=   0.0s\n",
            "[Pipeline] .......... (step 2 of 3) Processing selector, total=   1.7s\n",
            "[Pipeline] ........ (step 3 of 3) Processing classifier, total=   0.0s\n",
            "[Pipeline] ............ (step 1 of 3) Processing scaler, total=   0.0s\n",
            "[Pipeline] .......... (step 2 of 3) Processing selector, total=   1.6s\n",
            "[Pipeline] ........ (step 3 of 3) Processing classifier, total=   0.0s\n",
            "[Pipeline] ............ (step 1 of 3) Processing scaler, total=   0.0s\n",
            "[Pipeline] .......... (step 2 of 3) Processing selector, total=   1.6s\n",
            "[Pipeline] ........ (step 3 of 3) Processing classifier, total=   0.0s\n",
            "\n",
            "Average Scores Across 4 Folds:\n",
            "Accuracy: 0.9667 ± 0.0333\n",
            "Precision_macro: 0.9709 ± 0.0291\n",
            "Recall_macro: 0.9704 ± 0.0297\n",
            "F1_macro: 0.9688 ± 0.0312\n"
          ]
        }
      ]
    },
    {
      "cell_type": "markdown",
      "source": [
        "# BACKWARD"
      ],
      "metadata": {
        "id": "tXSlIOUmIE_s"
      }
    },
    {
      "cell_type": "code",
      "source": [
        "#BACKWARD\n",
        "from sklearn.datasets import load_wine\n",
        "from sklearn.model_selection import cross_validate\n",
        "from sklearn.preprocessing import StandardScaler\n",
        "from sklearn.linear_model import LogisticRegression\n",
        "from sklearn.pipeline import Pipeline\n",
        "from sklearn.feature_selection import SequentialFeatureSelector\n",
        "from sklearn.neighbors import KNeighborsClassifier\n",
        "\n",
        "#load dataset\n",
        "data=load_wine()\n",
        "df=pd.DataFrame(data.data,columns=data.feature_names)\n",
        "df['target']=data.target\n",
        "df.head()\n",
        "\n",
        "X=df.drop('target',axis=1)\n",
        "y=df['target']\n",
        "\n",
        "knn=KNeighborsClassifier(5)"
      ],
      "metadata": {
        "id": "LR5VBHU5IHsx"
      },
      "execution_count": null,
      "outputs": []
    },
    {
      "cell_type": "code",
      "source": [
        "#Pipeline\n",
        "pipeline = Pipeline([\n",
        "    ('scaler', StandardScaler()),\n",
        "    ('selector', SequentialFeatureSelector(knn, n_features_to_select=6, direction='backward', scoring='accuracy')),\n",
        "    ('classifier', LogisticRegression())\n",
        "])\n",
        "\n",
        "pipeline.verbose=True\n",
        "\n",
        "#Cross-validate and calculate all metrics\n",
        "scores = cross_validate(\n",
        "    pipeline,\n",
        "    X, y,\n",
        "    cv=4,\n",
        "    scoring=['accuracy', 'precision_macro', 'recall_macro', 'f1_macro']\n",
        ")\n",
        "\n",
        "print(\"\\nAverage Scores Across 4 Folds:\")\n",
        "for metric in ['accuracy', 'precision_macro', 'recall_macro', 'f1_macro']:\n",
        "    mean_score = scores[f'test_{metric}'].mean()\n",
        "    std_score = scores[f'test_{metric}'].std()\n",
        "    print(f\"{metric.capitalize()}: {mean_score:.4f} ± {std_score:.4f}\")"
      ],
      "metadata": {
        "colab": {
          "base_uri": "https://localhost:8080/"
        },
        "id": "tQzx11AyILRV",
        "outputId": "26676cee-b839-4972-ac6f-cfb420b27232"
      },
      "execution_count": null,
      "outputs": [
        {
          "output_type": "stream",
          "name": "stdout",
          "text": [
            "[Pipeline] ............ (step 1 of 3) Processing scaler, total=   0.0s\n",
            "[Pipeline] .......... (step 2 of 3) Processing selector, total=   1.8s\n",
            "[Pipeline] ........ (step 3 of 3) Processing classifier, total=   0.0s\n",
            "[Pipeline] ............ (step 1 of 3) Processing scaler, total=   0.0s\n",
            "[Pipeline] .......... (step 2 of 3) Processing selector, total=   1.8s\n",
            "[Pipeline] ........ (step 3 of 3) Processing classifier, total=   0.0s\n",
            "[Pipeline] ............ (step 1 of 3) Processing scaler, total=   0.0s\n",
            "[Pipeline] .......... (step 2 of 3) Processing selector, total=   1.8s\n",
            "[Pipeline] ........ (step 3 of 3) Processing classifier, total=   0.0s\n",
            "[Pipeline] ............ (step 1 of 3) Processing scaler, total=   0.0s\n",
            "[Pipeline] .......... (step 2 of 3) Processing selector, total=   1.7s\n",
            "[Pipeline] ........ (step 3 of 3) Processing classifier, total=   0.0s\n",
            "\n",
            "Average Scores Across 4 Folds:\n",
            "Accuracy: 0.9553 ± 0.0270\n",
            "Precision_macro: 0.9555 ± 0.0297\n",
            "Recall_macro: 0.9588 ± 0.0257\n",
            "F1_macro: 0.9562 ± 0.0282\n"
          ]
        }
      ]
    },
    {
      "cell_type": "markdown",
      "source": [
        "# RFE"
      ],
      "metadata": {
        "id": "Ok-58U7ULAc7"
      }
    },
    {
      "cell_type": "code",
      "source": [
        "#RFE\n",
        "from sklearn.datasets import load_wine\n",
        "from sklearn.model_selection import cross_validate\n",
        "from sklearn.preprocessing import StandardScaler\n",
        "from sklearn.linear_model import LogisticRegression\n",
        "from sklearn.pipeline import Pipeline\n",
        "from sklearn.feature_selection import RFE\n",
        "from sklearn.svm import SVC\n",
        "\n",
        "#load dataset\n",
        "data=load_wine()\n",
        "df=pd.DataFrame(data.data,columns=data.feature_names)\n",
        "df['target']=data.target\n",
        "df.head()\n",
        "\n",
        "X=df.drop('target',axis=1)\n",
        "y=df['target']\n",
        "\n"
      ],
      "metadata": {
        "id": "R4lBZTL2KCzr"
      },
      "execution_count": null,
      "outputs": []
    },
    {
      "cell_type": "code",
      "source": [
        "#Pipeline\n",
        "pipeline = Pipeline([\n",
        "    ('scaler', StandardScaler()),\n",
        "    ('selector', RFE(estimator=SVC(kernel='linear'), n_features_to_select=6)),\n",
        "    ('classifier', LogisticRegression())\n",
        "])\n",
        "pipeline.verbose=True\n",
        "#Cross-validate and calculate all metrics\n",
        "scores = cross_validate(\n",
        "    pipeline,\n",
        "    X, y,\n",
        "    cv=4,\n",
        "    scoring=['accuracy', 'precision_macro', 'recall_macro', 'f1_macro']\n",
        ")\n",
        "\n",
        "print(\"\\nAverage Scores Across 4 Folds:\")\n",
        "for metric in ['accuracy', 'precision_macro', 'recall_macro', 'f1_macro']:\n",
        "    mean_score = scores[f'test_{metric}'].mean()\n",
        "    std_score = scores[f'test_{metric}'].std()\n",
        "    print(f\"{metric.capitalize()}: {mean_score:.4f} ± {std_score:.4f}\")"
      ],
      "metadata": {
        "colab": {
          "base_uri": "https://localhost:8080/"
        },
        "id": "fUriSGLbMDFT",
        "outputId": "cd5b6930-b113-47e0-9506-d764ff1a93c4"
      },
      "execution_count": null,
      "outputs": [
        {
          "output_type": "stream",
          "name": "stdout",
          "text": [
            "[Pipeline] ............ (step 1 of 3) Processing scaler, total=   0.0s\n",
            "[Pipeline] .......... (step 2 of 3) Processing selector, total=   0.0s\n",
            "[Pipeline] ........ (step 3 of 3) Processing classifier, total=   0.0s\n",
            "[Pipeline] ............ (step 1 of 3) Processing scaler, total=   0.0s\n",
            "[Pipeline] .......... (step 2 of 3) Processing selector, total=   0.0s\n",
            "[Pipeline] ........ (step 3 of 3) Processing classifier, total=   0.0s\n",
            "[Pipeline] ............ (step 1 of 3) Processing scaler, total=   0.0s\n",
            "[Pipeline] .......... (step 2 of 3) Processing selector, total=   0.0s\n",
            "[Pipeline] ........ (step 3 of 3) Processing classifier, total=   0.0s\n",
            "[Pipeline] ............ (step 1 of 3) Processing scaler, total=   0.0s\n",
            "[Pipeline] .......... (step 2 of 3) Processing selector, total=   0.0s\n",
            "[Pipeline] ........ (step 3 of 3) Processing classifier, total=   0.0s\n",
            "\n",
            "Average Scores Across 4 Folds:\n",
            "Accuracy: 0.9497 ± 0.0480\n",
            "Precision_macro: 0.9540 ± 0.0441\n",
            "Recall_macro: 0.9565 ± 0.0391\n",
            "F1_macro: 0.9504 ± 0.0487\n"
          ]
        }
      ]
    },
    {
      "cell_type": "markdown",
      "source": [
        "# Embeded Methods"
      ],
      "metadata": {
        "id": "WIyoDunvOQFJ"
      }
    },
    {
      "cell_type": "markdown",
      "source": [
        "# Random Forest"
      ],
      "metadata": {
        "id": "vc8DScVOPovL"
      }
    },
    {
      "cell_type": "code",
      "source": [
        "#RF\n",
        "from sklearn.datasets import load_wine\n",
        "from sklearn.model_selection import cross_validate\n",
        "from sklearn.preprocessing import StandardScaler\n",
        "from sklearn.linear_model import LogisticRegression\n",
        "from sklearn.pipeline import Pipeline\n",
        "from sklearn.ensemble import RandomForestClassifier\n",
        "from sklearn.feature_selection import SelectFromModel\n",
        "\n",
        "\n",
        "#load dataset\n",
        "data=load_wine()\n",
        "df=pd.DataFrame(data.data,columns=data.feature_names)\n",
        "df['target']=data.target\n",
        "df.head()\n",
        "\n",
        "X=df.drop('target',axis=1)\n",
        "y=df['target']\n"
      ],
      "metadata": {
        "id": "-fu9WLj-OTUw"
      },
      "execution_count": null,
      "outputs": []
    },
    {
      "cell_type": "code",
      "source": [
        "#Pipeline\n",
        "pipeline = Pipeline([\n",
        "    ('scaler', StandardScaler()),\n",
        "    ('selector', SelectFromModel(RandomForestClassifier(random_state=42), max_features=6)),\n",
        "    ('classifier', LogisticRegression())\n",
        "])\n",
        "pipeline.verbose=True\n",
        "\n",
        "#Cross-validate and calculate all metrics\n",
        "scores = cross_validate(\n",
        "    pipeline,\n",
        "    X, y,\n",
        "    cv=4,\n",
        "    scoring=['accuracy', 'precision_macro', 'recall_macro', 'f1_macro']\n",
        ")\n",
        "\n",
        "print(\"\\nAverage Scores Across 4 Folds:\")\n",
        "for metric in ['accuracy', 'precision_macro', 'recall_macro', 'f1_macro']:\n",
        "    mean_score = scores[f'test_{metric}'].mean()\n",
        "    std_score = scores[f'test_{metric}'].std()\n",
        "    print(f\"{metric.capitalize()}: {mean_score:.4f} ± {std_score:.4f}\")"
      ],
      "metadata": {
        "colab": {
          "base_uri": "https://localhost:8080/"
        },
        "id": "rwmtSwLbPtuE",
        "outputId": "71efe322-830b-4802-a46a-031284f925e5"
      },
      "execution_count": null,
      "outputs": [
        {
          "output_type": "stream",
          "name": "stdout",
          "text": [
            "[Pipeline] ............ (step 1 of 3) Processing scaler, total=   0.0s\n",
            "[Pipeline] .......... (step 2 of 3) Processing selector, total=   0.2s\n",
            "[Pipeline] ........ (step 3 of 3) Processing classifier, total=   0.0s\n",
            "[Pipeline] ............ (step 1 of 3) Processing scaler, total=   0.0s\n",
            "[Pipeline] .......... (step 2 of 3) Processing selector, total=   0.2s\n",
            "[Pipeline] ........ (step 3 of 3) Processing classifier, total=   0.0s\n",
            "[Pipeline] ............ (step 1 of 3) Processing scaler, total=   0.0s\n",
            "[Pipeline] .......... (step 2 of 3) Processing selector, total=   0.2s\n",
            "[Pipeline] ........ (step 3 of 3) Processing classifier, total=   0.0s\n",
            "[Pipeline] ............ (step 1 of 3) Processing scaler, total=   0.0s\n",
            "[Pipeline] .......... (step 2 of 3) Processing selector, total=   0.2s\n",
            "[Pipeline] ........ (step 3 of 3) Processing classifier, total=   0.0s\n",
            "\n",
            "Average Scores Across 4 Folds:\n",
            "Accuracy: 0.9722 ± 0.0289\n",
            "Precision_macro: 0.9750 ± 0.0261\n",
            "Recall_macro: 0.9750 ± 0.0266\n",
            "F1_macro: 0.9738 ± 0.0275\n"
          ]
        }
      ]
    },
    {
      "cell_type": "markdown",
      "source": [
        "# Logistic using L1 penalty"
      ],
      "metadata": {
        "id": "4G1Owl6yS5kA"
      }
    },
    {
      "cell_type": "code",
      "source": [
        "#LR L1 penalty\n",
        "from sklearn.datasets import load_wine\n",
        "from sklearn.model_selection import cross_validate\n",
        "from sklearn.preprocessing import StandardScaler\n",
        "from sklearn.linear_model import LogisticRegression\n",
        "from sklearn.pipeline import Pipeline\n",
        "from sklearn.ensemble import RandomForestClassifier\n",
        "from sklearn.feature_selection import SelectKBest\n",
        "\n",
        "\n",
        "#load dataset\n",
        "data=load_wine()\n",
        "df=pd.DataFrame(data.data,columns=data.feature_names)\n",
        "df['target']=data.target\n",
        "df.head()\n",
        "\n",
        "X=df.drop('target',axis=1)\n",
        "y=df['target']\n"
      ],
      "metadata": {
        "id": "LNEse-zUTMQk"
      },
      "execution_count": null,
      "outputs": []
    },
    {
      "cell_type": "code",
      "source": [
        "#Pipeline\n",
        "pipeline = Pipeline([\n",
        "    ('scaler', StandardScaler()),\n",
        "    ('selector', SelectFromModel(LogisticRegression(penalty='l1',solver='saga',C=0.1,max_iter=1000,random_state=42),max_features=6)),\n",
        "    ('classifier', LogisticRegression())\n",
        "])\n",
        "pipeline.verbose=True\n",
        "\n",
        "#Cross-validate and calculate all metrics\n",
        "scores = cross_validate(\n",
        "    pipeline,\n",
        "    X, y,\n",
        "    cv=4,\n",
        "    scoring=['accuracy', 'precision_macro', 'recall_macro', 'f1_macro']\n",
        ")\n",
        "\n",
        "print(\"\\nAverage Scores Across 4 Folds:\")\n",
        "for metric in ['accuracy', 'precision_macro', 'recall_macro', 'f1_macro']:\n",
        "    mean_score = scores[f'test_{metric}'].mean()\n",
        "    std_score = scores[f'test_{metric}'].std()\n",
        "    print(f\"{metric.capitalize()}: {mean_score:.4f} ± {std_score:.4f}\")"
      ],
      "metadata": {
        "colab": {
          "base_uri": "https://localhost:8080/"
        },
        "id": "OgHtiXkHTQIO",
        "outputId": "108d27af-f408-4e81-a973-27c761081839"
      },
      "execution_count": null,
      "outputs": [
        {
          "output_type": "stream",
          "name": "stdout",
          "text": [
            "[Pipeline] ............ (step 1 of 3) Processing scaler, total=   0.0s\n",
            "[Pipeline] .......... (step 2 of 3) Processing selector, total=   0.0s\n",
            "[Pipeline] ........ (step 3 of 3) Processing classifier, total=   0.0s\n",
            "[Pipeline] ............ (step 1 of 3) Processing scaler, total=   0.0s\n",
            "[Pipeline] .......... (step 2 of 3) Processing selector, total=   0.0s\n",
            "[Pipeline] ........ (step 3 of 3) Processing classifier, total=   0.0s\n",
            "[Pipeline] ............ (step 1 of 3) Processing scaler, total=   0.0s\n",
            "[Pipeline] .......... (step 2 of 3) Processing selector, total=   0.0s\n",
            "[Pipeline] ........ (step 3 of 3) Processing classifier, total=   0.0s\n",
            "[Pipeline] ............ (step 1 of 3) Processing scaler, total=   0.0s\n",
            "[Pipeline] .......... (step 2 of 3) Processing selector, total=   0.0s\n",
            "[Pipeline] ........ (step 3 of 3) Processing classifier, total=   0.0s\n",
            "\n",
            "Average Scores Across 4 Folds:\n",
            "Accuracy: 0.9556 ± 0.0471\n",
            "Precision_macro: 0.9590 ± 0.0436\n",
            "Recall_macro: 0.9611 ± 0.0403\n",
            "F1_macro: 0.9565 ± 0.0464\n"
          ]
        }
      ]
    }
  ]
}